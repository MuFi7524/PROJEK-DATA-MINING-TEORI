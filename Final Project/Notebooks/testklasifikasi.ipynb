{
  "nbformat": 4,
  "nbformat_minor": 0,
  "metadata": {
    "colab": {
      "provenance": []
    },
    "kernelspec": {
      "name": "python3",
      "display_name": "Python 3"
    },
    "language_info": {
      "name": "python"
    }
  },
  "cells": [
    {
      "cell_type": "code",
      "execution_count": 34,
      "metadata": {
        "id": "1u5-5o7r1EUS"
      },
      "outputs": [],
      "source": [
        "# Import library yang diperlukan\n",
        "import pandas as pd\n",
        "from sklearn.ensemble import RandomForestClassifier\n",
        "from sklearn.tree import DecisionTreeClassifier\n",
        "from sklearn.metrics import accuracy_score, confusion_matrix, classification_report"
      ]
    },
    {
      "cell_type": "code",
      "source": [
        "# Inisialisasi model Random Forest dan Decision Tree\n",
        "models = {\n",
        "    \"Random Forest\": RandomForestClassifier(random_state=42),\n",
        "    \"Decision Tree\": DecisionTreeClassifier(random_state=42)\n",
        "}"
      ],
      "metadata": {
        "id": "vQlrltpy18MC"
      },
      "execution_count": 35,
      "outputs": []
    },
    {
      "cell_type": "code",
      "source": [
        "# Load dataset training dari program sebelumnya untuk melatih model\n",
        "data_train = pd.read_csv('train.csv')\n",
        "X_train = data_train.drop(columns=['y'])\n",
        "y_train = data_train['y']"
      ],
      "metadata": {
        "id": "UnVOGuub1_b6"
      },
      "execution_count": 36,
      "outputs": []
    },
    {
      "cell_type": "code",
      "source": [
        "# Load dataset test\n",
        "data_test = pd.read_csv('test.csv')  # Pastikan test.csv memiliki format yang sesuai dengan bankpreprocessed_data.csv\n",
        "X_test = data_test.drop(columns=['y'])\n",
        "y_test = data_test['y']"
      ],
      "metadata": {
        "id": "gxrEhtm-2RNr"
      },
      "execution_count": 37,
      "outputs": []
    },
    {
      "cell_type": "code",
      "source": [
        "# Menyimpan hasil evaluasi dari kedua model\n",
        "results = {}\n",
        "\n",
        "# Melatih dan mengevaluasi kedua model\n",
        "for model_name, model in models.items():\n",
        "    # Latih model\n",
        "    model.fit(X_train, y_train)\n",
        "\n",
        "    # Prediksi pada data training\n",
        "    y_train_pred = model.predict(X_train)\n",
        "\n",
        "    # Prediksi pada data test\n",
        "    y_test_pred = model.predict(X_test)\n",
        "\n",
        "    # Hitung metrik evaluasi untuk data training\n",
        "    train_accuracy = accuracy_score(y_train, y_train_pred)\n",
        "    train_conf_matrix = confusion_matrix(y_train, y_train_pred)\n",
        "    train_report = classification_report(y_train, y_train_pred)\n",
        "\n",
        "    # Hitung metrik evaluasi untuk data test\n",
        "    test_accuracy = accuracy_score(y_test, y_test_pred)\n",
        "    test_conf_matrix = confusion_matrix(y_test, y_test_pred)\n",
        "    test_report = classification_report(y_test, y_test_pred)\n",
        "\n",
        "    # Simpan hasil\n",
        "    results[model_name] = {\n",
        "        \"Train Accuracy\": train_accuracy,\n",
        "        \"Test Accuracy\": test_accuracy,\n",
        "        \"Train Confusion Matrix\": train_conf_matrix,\n",
        "        \"Test Confusion Matrix\": test_conf_matrix,\n",
        "        \"Train Classification Report\": train_report,\n",
        "        \"Test Classification Report\": test_report,\n",
        "    }"
      ],
      "metadata": {
        "id": "KfwOXQA52Om7"
      },
      "execution_count": 38,
      "outputs": []
    },
    {
      "cell_type": "code",
      "source": [
        "# Menampilkan hasil evaluasi kedua model\n",
        "for model_name, metrics in results.items():\n",
        "    print(f\"\\nHasil Evaluasi Model {model_name}:\")\n",
        "    print(f\"Train Accuracy: {metrics['Train Accuracy']:.2f}\")\n",
        "    print(f\"Test Accuracy: {metrics['Test Accuracy']:.2f}\")\n",
        "    print(\"\\nTrain Confusion Matrix:\")\n",
        "    print(metrics['Train Confusion Matrix'])\n",
        "    print(\"\\nTest Confusion Matrix:\")\n",
        "    print(metrics['Test Confusion Matrix'])\n",
        "    print(\"\\nTrain Classification Report:\")\n",
        "    print(metrics['Train Classification Report'])\n",
        "    print(\"\\nTest Classification Report:\")\n",
        "    print(metrics['Test Classification Report'])"
      ],
      "metadata": {
        "colab": {
          "base_uri": "https://localhost:8080/"
        },
        "id": "MylEJ-GJ4K7r",
        "outputId": "5c17eb38-eae8-4396-d04b-3dc7c72f147c"
      },
      "execution_count": 39,
      "outputs": [
        {
          "output_type": "stream",
          "name": "stdout",
          "text": [
            "\n",
            "Hasil Evaluasi Model Random Forest:\n",
            "Train Accuracy: 1.00\n",
            "Test Accuracy: 0.90\n",
            "\n",
            "Train Confusion Matrix:\n",
            "[[27956     0]\n",
            " [    2  3689]]\n",
            "\n",
            "Test Confusion Matrix:\n",
            "[[11590   376]\n",
            " [  945   653]]\n",
            "\n",
            "Train Classification Report:\n",
            "              precision    recall  f1-score   support\n",
            "\n",
            "           0       1.00      1.00      1.00     27956\n",
            "           1       1.00      1.00      1.00      3691\n",
            "\n",
            "    accuracy                           1.00     31647\n",
            "   macro avg       1.00      1.00      1.00     31647\n",
            "weighted avg       1.00      1.00      1.00     31647\n",
            "\n",
            "\n",
            "Test Classification Report:\n",
            "              precision    recall  f1-score   support\n",
            "\n",
            "           0       0.92      0.97      0.95     11966\n",
            "           1       0.63      0.41      0.50      1598\n",
            "\n",
            "    accuracy                           0.90     13564\n",
            "   macro avg       0.78      0.69      0.72     13564\n",
            "weighted avg       0.89      0.90      0.89     13564\n",
            "\n",
            "\n",
            "Hasil Evaluasi Model Decision Tree:\n",
            "Train Accuracy: 1.00\n",
            "Test Accuracy: 0.87\n",
            "\n",
            "Train Confusion Matrix:\n",
            "[[27956     0]\n",
            " [    0  3691]]\n",
            "\n",
            "Test Confusion Matrix:\n",
            "[[11107   859]\n",
            " [  851   747]]\n",
            "\n",
            "Train Classification Report:\n",
            "              precision    recall  f1-score   support\n",
            "\n",
            "           0       1.00      1.00      1.00     27956\n",
            "           1       1.00      1.00      1.00      3691\n",
            "\n",
            "    accuracy                           1.00     31647\n",
            "   macro avg       1.00      1.00      1.00     31647\n",
            "weighted avg       1.00      1.00      1.00     31647\n",
            "\n",
            "\n",
            "Test Classification Report:\n",
            "              precision    recall  f1-score   support\n",
            "\n",
            "           0       0.93      0.93      0.93     11966\n",
            "           1       0.47      0.47      0.47      1598\n",
            "\n",
            "    accuracy                           0.87     13564\n",
            "   macro avg       0.70      0.70      0.70     13564\n",
            "weighted avg       0.87      0.87      0.87     13564\n",
            "\n"
          ]
        }
      ]
    },
    {
      "cell_type": "code",
      "source": [
        "# Analisis Bias dan Variance\n",
        "print(\"\\nAnalisis Bias dan Variance:\")\n",
        "for model_name, metrics in results.items():\n",
        "    print(f\"\\nModel: {model_name}\")\n",
        "    train_accuracy = metrics['Train Accuracy']\n",
        "    test_accuracy = metrics['Test Accuracy']\n",
        "\n",
        "    if train_accuracy > test_accuracy:\n",
        "        variance = train_accuracy - test_accuracy\n",
        "        print(f\"Variance (Perbedaan Train-Test Accuracy): {variance:.2f}\")\n",
        "        if variance > 0.10:\n",
        "            print(\"Model kemungkinan overfitting (high variance).\")\n",
        "        else:\n",
        "            print(\"Variance terkendali.\")\n",
        "    else:\n",
        "        print(\"Tidak ada indikasi overfitting.\")\n",
        "\n",
        "    if train_accuracy < 0.80:\n",
        "        print(\"Model kemungkinan memiliki bias tinggi (low training accuracy).\")\n",
        "    else:\n",
        "        print(\"Bias rendah.\")"
      ],
      "metadata": {
        "colab": {
          "base_uri": "https://localhost:8080/"
        },
        "id": "wPMFK9DsGSOD",
        "outputId": "c8ea1879-45b0-4d20-ec21-005e0498d0f0"
      },
      "execution_count": 40,
      "outputs": [
        {
          "output_type": "stream",
          "name": "stdout",
          "text": [
            "\n",
            "Analisis Bias dan Variance:\n",
            "\n",
            "Model: Random Forest\n",
            "Variance (Perbedaan Train-Test Accuracy): 0.10\n",
            "Variance terkendali.\n",
            "Bias rendah.\n",
            "\n",
            "Model: Decision Tree\n",
            "Variance (Perbedaan Train-Test Accuracy): 0.13\n",
            "Model kemungkinan overfitting (high variance).\n",
            "Bias rendah.\n"
          ]
        }
      ]
    },
    {
      "cell_type": "code",
      "source": [
        "# Menghitung persentase prediksi yang benar dan salah untuk setiap model\n",
        "for model_name, model in models.items():\n",
        "    # Prediksi untuk data test\n",
        "    y_pred = model.predict(X_test)\n",
        "\n",
        "    correct_predictions = (y_pred == y_test).sum()\n",
        "    incorrect_predictions = (y_pred != y_test).sum()\n",
        "    total_predictions = len(y_test)\n",
        "\n",
        "    correct_percentage = (correct_predictions / total_predictions) * 100\n",
        "    incorrect_percentage = (incorrect_predictions / total_predictions) * 100\n",
        "\n",
        "    print(f\"\\nPersentase Prediksi untuk {model_name}:\")\n",
        "    print(f\"Prediksi Benar: {correct_percentage:.2f}%\")\n",
        "    print(f\"Prediksi Salah: {incorrect_percentage:.2f}%\")"
      ],
      "metadata": {
        "colab": {
          "base_uri": "https://localhost:8080/"
        },
        "id": "OGGxFnsz4Xfk",
        "outputId": "19396458-6c6b-4fc1-ceb5-a0aaa467d247"
      },
      "execution_count": 41,
      "outputs": [
        {
          "output_type": "stream",
          "name": "stdout",
          "text": [
            "\n",
            "Persentase Prediksi untuk Random Forest:\n",
            "Prediksi Benar: 90.26%\n",
            "Prediksi Salah: 9.74%\n",
            "\n",
            "Persentase Prediksi untuk Decision Tree:\n",
            "Prediksi Benar: 87.39%\n",
            "Prediksi Salah: 12.61%\n"
          ]
        }
      ]
    },
    {
      "cell_type": "code",
      "source": [
        "# Prediksi satu data untuk validasi untuk kedua model\n",
        "sample_index = 9 # Ganti indeks ini untuk memilih data yang berbeda\n",
        "sample_data = X_test.iloc[sample_index].values.reshape(1, -1)\n",
        "sample_actual = y_test.iloc[sample_index]\n",
        "\n",
        "# Prediksi untuk Random Forest\n",
        "random_forest_prediction = models[\"Random Forest\"].predict(sample_data)[0]\n",
        "\n",
        "# Prediksi untuk Decision Tree\n",
        "decision_tree_prediction = models[\"Decision Tree\"].predict(sample_data)[0]\n",
        "\n",
        "# Menampilkan data fitur beserta nama atributnya\n",
        "sample_data_df = pd.DataFrame(sample_data, columns=X_test.columns)\n",
        "\n",
        "print(\"\\nPrediksi untuk satu data:\")\n",
        "print(f\"Data ke-{sample_index + 1} (fitur):\")\n",
        "print(sample_data_df)\n",
        "print(f\"Nilai aktual: {sample_actual}\")\n",
        "print(f\"Prediksi model Random Forest: {random_forest_prediction}\")\n",
        "print(f\"Prediksi model Decision Tree: {decision_tree_prediction}\")\n",
        "\n",
        "# Bandingkan hasil prediksi\n",
        "if sample_actual == random_forest_prediction:\n",
        "    print(\"Prediksi Random Forest benar ✅\")\n",
        "else:\n",
        "    print(\"Prediksi Random Forest salah ❌\")\n",
        "\n",
        "if sample_actual == decision_tree_prediction:\n",
        "    print(\"Prediksi Decision Tree benar ✅\")\n",
        "else:\n",
        "    print(\"Prediksi Decision Tree salah ❌\")"
      ],
      "metadata": {
        "colab": {
          "base_uri": "https://localhost:8080/"
        },
        "id": "q29fgQNe4dyD",
        "outputId": "357a4ea4-2b43-46e9-8c74-c7e023002aa3"
      },
      "execution_count": 42,
      "outputs": [
        {
          "output_type": "stream",
          "name": "stdout",
          "text": [
            "\n",
            "Prediksi untuk satu data:\n",
            "Data ke-10 (fitur):\n",
            "       age  job  marital  education  default   balance  housing  loan  \\\n",
            "0  0.25974  9.0      2.0        1.0      0.0  0.075146      0.0   1.0   \n",
            "\n",
            "   contact   day  month  duration  campaign  pdays  previous  poutcome  \n",
            "0      2.0  20.0    6.0  0.119357  0.016129    0.0       0.0       3.0  \n",
            "Nilai aktual: 0\n",
            "Prediksi model Random Forest: 0\n",
            "Prediksi model Decision Tree: 1\n",
            "Prediksi Random Forest benar ✅\n",
            "Prediksi Decision Tree salah ❌\n"
          ]
        },
        {
          "output_type": "stream",
          "name": "stderr",
          "text": [
            "/usr/local/lib/python3.10/dist-packages/sklearn/utils/validation.py:2739: UserWarning: X does not have valid feature names, but RandomForestClassifier was fitted with feature names\n",
            "  warnings.warn(\n",
            "/usr/local/lib/python3.10/dist-packages/sklearn/utils/validation.py:2739: UserWarning: X does not have valid feature names, but DecisionTreeClassifier was fitted with feature names\n",
            "  warnings.warn(\n"
          ]
        }
      ]
    }
  ]
}