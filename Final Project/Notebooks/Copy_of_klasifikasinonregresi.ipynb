{
  "nbformat": 4,
  "nbformat_minor": 0,
  "metadata": {
    "colab": {
      "provenance": []
    },
    "kernelspec": {
      "name": "python3",
      "display_name": "Python 3"
    },
    "language_info": {
      "name": "python"
    }
  },
  "cells": [
    {
      "cell_type": "markdown",
      "source": [
        "Impor librari"
      ],
      "metadata": {
        "id": "7SjGQpbN_vt4"
      }
    },
    {
      "cell_type": "code",
      "execution_count": 1,
      "metadata": {
        "id": "OlwAfxgt7CTe"
      },
      "outputs": [],
      "source": [
        "# Mengimpor pustaka yang dibutuhkan\n",
        "import pandas as pd\n",
        "import numpy as np\n",
        "import matplotlib.pyplot as plt\n",
        "import seaborn as sns\n",
        "from sklearn.model_selection import train_test_split, cross_val_score, KFold\n",
        "from sklearn.tree import DecisionTreeClassifier\n",
        "from sklearn.ensemble import RandomForestClassifier\n",
        "from sklearn.metrics import accuracy_score, precision_score, recall_score, f1_score, confusion_matrix"
      ]
    },
    {
      "cell_type": "markdown",
      "source": [
        "Memuat dataset"
      ],
      "metadata": {
        "id": "Vpie1G_a_zvg"
      }
    },
    {
      "cell_type": "code",
      "source": [
        "# Load preprocessed dataset\n",
        "data = pd.read_csv('bankpreprocessed_data.csv')"
      ],
      "metadata": {
        "id": "kPBRSq3z8zSv"
      },
      "execution_count": 2,
      "outputs": []
    },
    {
      "cell_type": "markdown",
      "source": [
        "Memisahkan antara kolom fitur dan target"
      ],
      "metadata": {
        "id": "QOgBUyFv_1B2"
      }
    },
    {
      "cell_type": "code",
      "source": [
        "# Pisahkan fitur (X) dan target (y)\n",
        "X = data.drop(columns=['y'])  # 'y' adalah target\n",
        "y = data['y']  # Target klasifikasi"
      ],
      "metadata": {
        "id": "OudV3_tG8zQX"
      },
      "execution_count": 3,
      "outputs": []
    },
    {
      "cell_type": "markdown",
      "source": [
        "Membagi data menjadi data pelatihan dan pengujian dengan rasio 70:30"
      ],
      "metadata": {
        "id": "We2KtzHb_5FQ"
      }
    },
    {
      "cell_type": "code",
      "source": [
        "# Split data menjadi 70% training dan 30% testing\n",
        "X_train, X_test, y_train, y_test = train_test_split(X, y, test_size=0.3, random_state=42)"
      ],
      "metadata": {
        "id": "XUeNuNjI89-i"
      },
      "execution_count": 4,
      "outputs": []
    },
    {
      "cell_type": "code",
      "source": [
        "# Gabungkan kembali data latih dan data uji agar bisa diekspor\n",
        "train_data = pd.concat([X_train, y_train], axis=1)\n",
        "test_data = pd.concat([X_test, y_test], axis=1)"
      ],
      "metadata": {
        "id": "hBEx2SQtxumb"
      },
      "execution_count": 5,
      "outputs": []
    },
    {
      "cell_type": "code",
      "source": [
        "# Ekspor data latih ke train.csv\n",
        "train_data.to_csv('train.csv', index=False)\n",
        "print(\"Data latih telah diekspor ke 'train.csv'.\")\n",
        "\n",
        "# Ekspor data uji ke test.csv\n",
        "test_data.to_csv('test.csv', index=False)\n",
        "print(\"Data uji telah diekspor ke 'test.csv'.\")"
      ],
      "metadata": {
        "colab": {
          "base_uri": "https://localhost:8080/"
        },
        "id": "Nf2umIjQxzfT",
        "outputId": "b9881e42-8ada-4968-dec5-45fceaf8cf72"
      },
      "execution_count": 6,
      "outputs": [
        {
          "output_type": "stream",
          "name": "stdout",
          "text": [
            "Data latih telah diekspor ke 'train.csv'.\n",
            "Data uji telah diekspor ke 'test.csv'.\n"
          ]
        }
      ]
    },
    {
      "cell_type": "markdown",
      "source": [
        "Inisialisasi Model"
      ],
      "metadata": {
        "id": "SX6Ux3DvABny"
      }
    },
    {
      "cell_type": "code",
      "source": [
        "# Inisialisasi model klasifikasi\n",
        "models = {\n",
        "    \"Decision Tree\": DecisionTreeClassifier(random_state=42),\n",
        "    \"Random Forest\": RandomForestClassifier(random_state=42)\n",
        "}"
      ],
      "metadata": {
        "id": "o2bZg5El9Abq"
      },
      "execution_count": null,
      "outputs": []
    },
    {
      "cell_type": "markdown",
      "source": [
        "Menyimpan hasil evaluasi model"
      ],
      "metadata": {
        "id": "jQaFj1YVAEJc"
      }
    },
    {
      "cell_type": "code",
      "source": [
        "# Simpan hasil evaluasi\n",
        "results = {}\n",
        "\n",
        "# Latih dan evaluasi setiap model\n",
        "for name, model in models.items():\n",
        "    # Latih model\n",
        "    model.fit(X_train, y_train)\n",
        "\n",
        "    # Prediksi\n",
        "    y_pred = model.predict(X_test)\n",
        "\n",
        "    # Hitung metrik evaluasi\n",
        "    accuracy = accuracy_score(y_test, y_pred)\n",
        "    precision = precision_score(y_test, y_pred)\n",
        "    recall = recall_score(y_test, y_pred)\n",
        "    f1 = f1_score(y_test, y_pred)\n",
        "\n",
        "    # Confusion Matrix\n",
        "    conf_matrix = confusion_matrix(y_test, y_pred)\n",
        "\n",
        "    # Cross-validation\n",
        "    kfold = KFold(n_splits=5, shuffle=True, random_state=42)\n",
        "    cv_scores = cross_val_score(model, X, y, cv=kfold, scoring='accuracy')\n",
        "\n",
        "    # Simpan hasil\n",
        "    results[name] = {\n",
        "        \"Accuracy\": accuracy,\n",
        "        \"Precision\": precision,\n",
        "        \"Recall\": recall,\n",
        "        \"F1 Score\": f1,\n",
        "        \"CV Accuracy Mean\": np.mean(cv_scores),\n",
        "        \"CV Accuracy Std\": np.std(cv_scores),\n",
        "        \"Confusion Matrix\": conf_matrix\n",
        "    }"
      ],
      "metadata": {
        "id": "ichAhrAg9FVi"
      },
      "execution_count": null,
      "outputs": []
    },
    {
      "cell_type": "markdown",
      "source": [
        "Menampilkan hasil evaluasi untuk analisis lebih lanjut"
      ],
      "metadata": {
        "id": "PfHB5P8JAHP9"
      }
    },
    {
      "cell_type": "code",
      "source": [
        "# Tampilkan hasil evaluasi\n",
        "print(\"Hasil Evaluasi Model:\")\n",
        "for model_name, metrics in results.items():\n",
        "    print(f\"\\n{model_name}:\")\n",
        "    for metric, value in metrics.items():\n",
        "        if metric != \"Confusion Matrix\":\n",
        "            print(f\"  {metric}: {value}\")\n",
        "        else:\n",
        "            print(f\"  {metric}:\")\n",
        "            print(value)"
      ],
      "metadata": {
        "colab": {
          "base_uri": "https://localhost:8080/"
        },
        "id": "Pz9py85k_Izf",
        "outputId": "f11fe8f9-68aa-43f3-ead4-e10b2124c640"
      },
      "execution_count": null,
      "outputs": [
        {
          "output_type": "stream",
          "name": "stdout",
          "text": [
            "Hasil Evaluasi Model:\n",
            "\n",
            "Decision Tree:\n",
            "  Accuracy: 0.8739309938071366\n",
            "  Precision: 0.4651307596513076\n",
            "  Recall: 0.467459324155194\n",
            "  F1 Score: 0.46629213483146065\n",
            "  CV Accuracy Mean: 0.8756718930662402\n",
            "  CV Accuracy Std: 0.004215488304945951\n",
            "  Confusion Matrix:\n",
            "[[11107   859]\n",
            " [  851   747]]\n",
            "\n",
            "Random Forest:\n",
            "  Accuracy: 0.9026098496018874\n",
            "  Precision: 0.6345966958211856\n",
            "  Recall: 0.40863579474342926\n",
            "  F1 Score: 0.4971450323563\n",
            "  CV Accuracy Mean: 0.9044481326566676\n",
            "  CV Accuracy Std: 0.0030496164626573337\n",
            "  Confusion Matrix:\n",
            "[[11590   376]\n",
            " [  945   653]]\n"
          ]
        }
      ]
    },
    {
      "cell_type": "markdown",
      "source": [
        "Visualisasi hasil"
      ],
      "metadata": {
        "id": "Ns_-cO0JAKCc"
      }
    },
    {
      "cell_type": "code",
      "source": [
        "# Visualisasi hasil perbandingan metrik evaluasi\n",
        "metrics_df = pd.DataFrame(results).T\n",
        "\n",
        "# Bar chart untuk setiap metrik\n",
        "metrics_df[[\"Accuracy\", \"Precision\", \"Recall\", \"F1 Score\"]].plot(kind=\"bar\", figsize=(12, 6), title=\"Perbandingan Metrik Evaluasi\")\n",
        "plt.ylabel(\"Nilai\")\n",
        "plt.xticks(rotation=0)\n",
        "plt.tight_layout()\n",
        "plt.show()\n",
        "\n",
        "# Visualisasi Cross-Validation Accuracy\n",
        "metrics_df[[\"CV Accuracy Mean\"]].plot(kind=\"bar\", yerr=metrics_df[\"CV Accuracy Std\"], figsize=(12, 6), title=\"Hasil Cross-Validation (Accuracy)\")\n",
        "plt.ylabel(\"Accuracy Score\")\n",
        "plt.xticks(rotation=0)\n",
        "plt.tight_layout()\n",
        "plt.show()"
      ],
      "metadata": {
        "colab": {
          "base_uri": "https://localhost:8080/",
          "height": 886
        },
        "id": "z3Cn-dRa_MP6",
        "outputId": "1073bc4d-14ed-443a-d2f5-6eca14f975d7"
      },
      "execution_count": null,
      "outputs": [
        {
          "output_type": "display_data",
          "data": {
            "text/plain": [
              "<Figure size 1200x600 with 1 Axes>"
            ],
            "image/png": "[encoded data removed]"
          },
          "metadata": {}
        },
        {
          "output_type": "display_data",
          "data": {
            "text/plain": [
              "<Figure size 1200x600 with 1 Axes>"
            ],
            "image/png": "[encoded data removed]"
          },
          "metadata": {}
        }
      ]
    },
    {
      "cell_type": "markdown",
      "source": [
        "Analisis dan interprestasi hasil"
      ],
      "metadata": {
        "id": "sYNnZxv8AM9M"
      }
    },
    {
      "cell_type": "code",
      "source": [
        "# Analisis dan Interpretasi\n",
        "best_model = max(results, key=lambda k: results[k][\"Accuracy\"])\n",
        "print(f\"\\nModel terbaik berdasarkan Akurasi adalah: {best_model}\")\n",
        "\n",
        "# Interpretasi hasil\n",
        "print(\"\\nInterpretasi Hasil:\")\n",
        "for model_name, metrics in results.items():\n",
        "    print(f\"\\nModel: {model_name}\")\n",
        "    print(f\"- Akurasi: {metrics['Accuracy']:.4f} -> Proporsi prediksi yang benar dari total prediksi.\")\n",
        "    print(f\"- Precision: {metrics['Precision']:.4f} -> Proporsi prediksi positif yang benar.\")\n",
        "    print(f\"- Recall: {metrics['Recall']:.4f} -> Kemampuan model untuk mendeteksi semua kasus positif.\")\n",
        "    print(f\"- F1 Score: {metrics['F1 Score']:.4f} -> Rata-rata harmonis antara precision dan recall.\")\n",
        "    print(f\"- Cross-Validation Accuracy Mean: {metrics['CV Accuracy Mean']:.4f} (dengan std {metrics['CV Accuracy Std']:.4f}) -> Performa rata-rata model berdasarkan 5-fold cross-validation.\")\n"
      ],
      "metadata": {
        "colab": {
          "base_uri": "https://localhost:8080/"
        },
        "id": "UsP6_1t__RSZ",
        "outputId": "c0c04795-6dea-4d5b-97f3-f4a0a73bdd21"
      },
      "execution_count": null,
      "outputs": [
        {
          "output_type": "stream",
          "name": "stdout",
          "text": [
            "\n",
            "Model terbaik berdasarkan Akurasi adalah: Random Forest\n",
            "\n",
            "Interpretasi Hasil:\n",
            "\n",
            "Model: Decision Tree\n",
            "- Akurasi: 0.8739 -> Proporsi prediksi yang benar dari total prediksi.\n",
            "- Precision: 0.4651 -> Proporsi prediksi positif yang benar.\n",
            "- Recall: 0.4675 -> Kemampuan model untuk mendeteksi semua kasus positif.\n",
            "- F1 Score: 0.4663 -> Rata-rata harmonis antara precision dan recall.\n",
            "- Cross-Validation Accuracy Mean: 0.8757 (dengan std 0.0042) -> Performa rata-rata model berdasarkan 5-fold cross-validation.\n",
            "\n",
            "Model: Random Forest\n",
            "- Akurasi: 0.9026 -> Proporsi prediksi yang benar dari total prediksi.\n",
            "- Precision: 0.6346 -> Proporsi prediksi positif yang benar.\n",
            "- Recall: 0.4086 -> Kemampuan model untuk mendeteksi semua kasus positif.\n",
            "- F1 Score: 0.4971 -> Rata-rata harmonis antara precision dan recall.\n",
            "- Cross-Validation Accuracy Mean: 0.9044 (dengan std 0.0030) -> Performa rata-rata model berdasarkan 5-fold cross-validation.\n"
          ]
        }
      ]
    },
    {
      "cell_type": "markdown",
      "source": [
        "Contoh prediksi"
      ],
      "metadata": {
        "id": "hLmzZ9fGAPhJ"
      }
    },
    {
      "cell_type": "code",
      "source": [
        "# Contoh prediksi dan perbandingan\n",
        "sample_preds = pd.DataFrame({\n",
        "    \"Actual\": y_test.values,\n",
        "    \"Predicted\": models[best_model].predict(X_test)\n",
        "}).head(10)\n",
        "\n",
        "print(\"\\nContoh Prediksi:\")\n",
        "print(sample_preds)"
      ],
      "metadata": {
        "colab": {
          "base_uri": "https://localhost:8080/"
        },
        "id": "l8OD6ORP_UW-",
        "outputId": "8b9419c5-54f7-4cf3-f7d2-65691ec5d96a"
      },
      "execution_count": null,
      "outputs": [
        {
          "output_type": "stream",
          "name": "stdout",
          "text": [
            "\n",
            "Contoh Prediksi:\n",
            "   Actual  Predicted\n",
            "0       0          0\n",
            "1       0          0\n",
            "2       0          0\n",
            "3       0          0\n",
            "4       0          0\n",
            "5       0          0\n",
            "6       0          0\n",
            "7       0          0\n",
            "8       0          0\n",
            "9       0          0\n"
          ]
        }
      ]
    }
  ]
}